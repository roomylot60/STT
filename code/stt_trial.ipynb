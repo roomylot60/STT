{
 "cells": [
  {
   "cell_type": "markdown",
   "metadata": {},
   "source": [
    "## Speech to Text; STT\n",
    "- STT 사용할 라이브러리\n",
    "    * Speech Recognizer : `.wav`, `.flac` 등의 포맷에서 사용가능\n",
    "    * whisper API : `.mp4`와 같은 영상 포맷 사용 가능 [Ref.](https://medium.com/@minji.sql/%EC%9D%8C%EC%84%B1%EC%9D%84-%ED%85%8D%EC%8A%A4%ED%8A%B8%EB%A1%9C-%EB%B3%80%ED%99%98%ED%95%98%EB%8A%94-%EA%B8%B0%EC%88%A01-speech-to-text-stt-whisper-api-64658c011cbe)"
   ]
  },
  {
   "cell_type": "code",
   "execution_count": 1,
   "metadata": {},
   "outputs": [
    {
     "name": "stdout",
     "output_type": "stream",
     "text": [
      "d:\\Programming\\Project\\STT_PJ\n"
     ]
    }
   ],
   "source": [
    "# 기본 PATH 설정\n",
    "import os\n",
    "PATH, _ = os.path.split(os.getcwd())\n",
    "print(PATH)"
   ]
  },
  {
   "cell_type": "code",
   "execution_count": 2,
   "metadata": {},
   "outputs": [
    {
     "name": "stdout",
     "output_type": "stream",
     "text": [
      "d:\\Programming\\Project\\STT_PJ/data\n"
     ]
    }
   ],
   "source": [
    "PATH = PATH + '/data'\n",
    "print(PATH)"
   ]
  },
  {
   "cell_type": "code",
   "execution_count": 10,
   "metadata": {},
   "outputs": [
    {
     "name": "stdout",
     "output_type": "stream",
     "text": [
      "['d:\\\\Programming\\\\Project\\\\STT_PJ/data\\\\TBH (Ballad Ver) (고민중독 (Ballad Ver)).mp4', 'd:\\\\Programming\\\\Project\\\\STT_PJ/data\\\\고민중독(Ballad Ver).mp4']\n"
     ]
    }
   ],
   "source": [
    "import glob\n",
    "\n",
    "files = glob.glob(PATH + '/*.mp4')\n",
    "print(files)"
   ]
  },
  {
   "cell_type": "code",
   "execution_count": 11,
   "metadata": {},
   "outputs": [],
   "source": [
    "for x in files:\n",
    "\tif not os.path.isdir(x):\n",
    "\t\tfilename = os.path.splitext(x)\n",
    "\t\ttry:\n",
    "\t\t\tos.rename(x,filename[0] + '.mp3')\n",
    "\t\texcept:\n",
    "\t\t\tpass"
   ]
  },
  {
   "cell_type": "code",
   "execution_count": 13,
   "metadata": {},
   "outputs": [
    {
     "ename": "SyntaxError",
     "evalue": "(unicode error) 'unicodeescape' codec can't decode bytes in position 84-85: truncated \\UXXXXXXXX escape (4130686867.py, line 38)",
     "output_type": "error",
     "traceback": [
      "\u001b[1;36m  Cell \u001b[1;32mIn[13], line 38\u001b[1;36m\u001b[0m\n\u001b[1;33m    '''\u001b[0m\n\u001b[1;37m       ^\u001b[0m\n\u001b[1;31mSyntaxError\u001b[0m\u001b[1;31m:\u001b[0m (unicode error) 'unicodeescape' codec can't decode bytes in position 84-85: truncated \\UXXXXXXXX escape\n"
     ]
    }
   ],
   "source": [
    "import speech_recognition as sr\n",
    "\n",
    "r = sr.Recognizer()\n",
    "with sr.AudioFile(PATH +'/고민중독(Ballad Ver).mp3') as source:\n",
    "    audio = r.record(source, duration=120)\n",
    "\n",
    "'''\n",
    "Error                                     Traceback (most recent call last)\n",
    "File c:\\Users\\dhsmf\\anaconda3\\envs\\py312\\Lib\\site-packages\\speech_recognition\\__init__.py:241, in AudioFile.__enter__(self)\n",
    "    239 try:\n",
    "    240     # attempt to read the file as WAV\n",
    "--> 241     self.audio_reader = wave.open(self.filename_or_fileobject, \"rb\")\n",
    "    242     self.little_endian = True  # RIFF WAV is a little-endian format (most ``audioop`` operations assume that the frames are stored in little-endian form)\n",
    "\n",
    "File c:\\Users\\dhsmf\\anaconda3\\envs\\py312\\Lib\\wave.py:649, in open(f, mode)\n",
    "    648 if mode in ('r', 'rb'):\n",
    "--> 649     return Wave_read(f)\n",
    "    650 elif mode in ('w', 'wb'):\n",
    "\n",
    "File c:\\Users\\dhsmf\\anaconda3\\envs\\py312\\Lib\\wave.py:286, in Wave_read.__init__(self, f)\n",
    "    285 try:\n",
    "--> 286     self.initfp(f)\n",
    "    287 except:\n",
    "\n",
    "File c:\\Users\\dhsmf\\anaconda3\\envs\\py312\\Lib\\wave.py:253, in Wave_read.initfp(self, file)\n",
    "    252 if self._file.getname() != b'RIFF':\n",
    "--> 253     raise Error('file does not start with RIFF id')\n",
    "    254 if self._file.read(4) != b'WAVE':\n",
    "\n",
    "Error: file does not start with RIFF id\n",
    "...\n",
    "--> 274             raise ValueError(\"Audio file could not be read as PCM WAV, AIFF/AIFF-C, or Native FLAC; check if file is corrupted or in another format\")\n",
    "    275         self.little_endian = False  # AIFF is a big-endian format\n",
    "    276 assert 1 <= self.audio_reader.getnchannels() <= 2, \"Audio must be mono or stereo\"\n",
    "\n",
    "ValueError: Audio file could not be read as PCM WAV, AIFF/AIFF-C, or Native FLAC; check if file is corrupted or in another format\n",
    "Output is truncated. View as a scrollable element or open in a text editor. Adjust cell output settings...\n",
    "'''"
   ]
  },
  {
   "cell_type": "code",
   "execution_count": 14,
   "metadata": {},
   "outputs": [
    {
     "name": "stderr",
     "output_type": "stream",
     "text": [
      "100%|███████████████████████████████████████| 139M/139M [02:16<00:00, 1.07MiB/s]\n",
      "c:\\Users\\dhsmf\\anaconda3\\envs\\stt_env\\lib\\site-packages\\whisper\\transcribe.py:115: UserWarning: FP16 is not supported on CPU; using FP32 instead\n",
      "  warnings.warn(\"FP16 is not supported on CPU; using FP32 instead\")\n"
     ]
    },
    {
     "name": "stdout",
     "output_type": "stream",
     "text": [
      " 쓰� anxious 또 nächste 노래에 오사진VES 어딤 인스타가 괜찮을거 막상 니 앞에 손이 꼼꼼 얼어버렸다 숨겨왔던 나의 맘 절반의 반도 주지를 못했어 사실 아직은 집이 간두다 그려 소용 덜이처아 지럽다 그들 쏟아지는 마음을 멈출 수가 없을까 너의 작은 인상 마디에 유란 애조소 내 말에 비밀거나 눌라 결국 싶지만 너를 고민고민해도 좋은 밤 하자니 하자니 거품 앞에 서세볍다지은 습한 인사가 손을 늘고 내 얼굴을 하고서 고개를 숙였다 내 아직도 준비간된다 봐요 소용 덜이처아 지럽다 그들 쏟아지는 마음을 멈출 수가 없을까 너의 작은 인상 마디에 유란 애조소 내 말에 비밀거나 눌라 결국 싶지만 너를 고민고민해도 좋은 밤 너를 맘이 좋아하던 말이야 멈춰다 못해 내 마음이 그룹 안워 저거는 날 못해 놓지 제대로 봐 물고민하고 연습했던 나 좋아해\n",
      "Detected language: ko\n",
      "이 영상은\n"
     ]
    }
   ],
   "source": [
    "# Whisper 라이브러리를 불러옵니다\n",
    "import whisper \n",
    "\n",
    "# \"audio.mp3\" 오디오 파일을 로드. \"base\" 크기의 Whisper 모델을 메모리에 로드합니다.\n",
    "model = whisper.load_model(\"base\") \n",
    "\n",
    "# 모델의 transcribe() 메소드를 사용하여 \"audio.mp3\" 파일을 음성 인식하여 텍스트로 변환합니다.\n",
    "# 이 메소드는 전체 파일을 읽고 30초 길이의 윈도우를 이동시키며 오디오를 처리합니다. \n",
    "# 각 윈도우에서 자동 회귀 시퀀스-투-시퀀스 예측을 수행합니다.\n",
    "speech_path = PATH + \"/고민중독(Ballad Ver).mp3\"\n",
    "result = model.transcribe(speech_path)\n",
    "print(result[\"text\"])\n",
    "\n",
    "# 오디오를 30초 길이에 맞게 패딩하거나 자릅니다\n",
    "audio = whisper.load_audio(speech_path) \n",
    "audio = whisper.pad_or_trim(audio)\n",
    "\n",
    "# 오디오의 로그 멜 스펙트로그램을 생성하고 모델이 있는 같은 디바이스로 이동합니다\n",
    "mel = whisper.log_mel_spectrogram(audio).to(model.device)\n",
    "\n",
    "# detect_language() 메소드를 사용하여 말해진 언어를 감지합니다\n",
    "_, probs = model.detect_language(mel)\n",
    "# 감지된 언어를 출력합니다\n",
    "print(f\"Detected language: {max(probs, key=probs.get)}\")\n",
    "\n",
    "# 디코딩 옵션을 설정합니다\n",
    "options = whisper.DecodingOptions()\n",
    "# decode() 메소드를 사용하여 오디오를 텍스트로 디코딩합니다\n",
    "result = whisper.decode(model, mel, options)\n",
    "\n",
    "# print the recognized text\n",
    "print(result.text)"
   ]
  },
  {
   "cell_type": "code",
   "execution_count": 16,
   "metadata": {},
   "outputs": [
    {
     "name": "stderr",
     "output_type": "stream",
     "text": [
      "c:\\Users\\dhsmf\\anaconda3\\envs\\stt_env\\lib\\site-packages\\whisper\\transcribe.py:115: UserWarning: FP16 is not supported on CPU; using FP32 instead\n",
      "  warnings.warn(\"FP16 is not supported on CPU; using FP32 instead\")\n"
     ]
    },
    {
     "name": "stdout",
     "output_type": "stream",
     "text": [
      " Oak 어떤 인서가 괜찮을까 처음 짐상상 해봤어 근데 오늘도 Kont물 aisリ 어린이 막상 니 앞에 손이 꼼꼼 얼어버렸다 숨겨왔던 나의 맘 절반의 반도 주지를 못했어 사실 아직은 집이 간듯하고 여 소용도리쳐 아지럽다 그 쏟아지는 마음을 멈출 수가 없을까 너의 작은 인상마디의 유란 애조소 내 말의 비밀거나 눌라 예고 싶지만 너를 고민고민해도 좋은 마..하 자주.. 부존에olan 거우 magic 내 얼굴을 하고 있어 고개를 숙였다 내 아직도 준비가 된다봐요 서운 돌이저 싫어했다 그다 수다지는 마음을 멈출 수가 없을까 너의 작은 인사 한 마비의 유행 해줘서 내 맘의 비밀 발을 누르고 열고 싶지만 너를 고민 너빈 해두지 너 너를 많이 많이 좋아할 너의 머리야 너 없지 못해 내 마음이 그룹을 안해 너는 날 못해 너지 잘 뒤로 봐 물고민하고 연습했던 너 좋아해\n"
     ]
    }
   ],
   "source": [
    "# 결과 텍스트 추출\n",
    "speech_path = PATH + \"/고민중독(Ballad Ver).mp3\"\n",
    "txt = model.transcribe(speech_path)\n",
    "print(txt[\"text\"])"
   ]
  },
  {
   "cell_type": "code",
   "execution_count": 20,
   "metadata": {},
   "outputs": [
    {
     "name": "stdout",
     "output_type": "stream",
     "text": [
      "Transcription saved to 고민중독.txt\n"
     ]
    }
   ],
   "source": [
    "# 결과를 파일로 저장\n",
    "output_file = \"고민중독.txt\"\n",
    "string = str(txt[\"text\"])\n",
    "with open(output_file, 'w', encoding='utf-8') as file:\n",
    "    file.write(string)\n",
    "print(f\"Transcription saved to {output_file}\")"
   ]
  },
  {
   "cell_type": "code",
   "execution_count": null,
   "metadata": {},
   "outputs": [],
   "source": [
    "# pytube 오류 수정 코드\n",
    "# https://github.com/pytube/pytube/issues/1973 : KhurramRana\n",
    "\n",
    "# To fix the following issues.\n",
    "# 1- get_throttling_function_name\n",
    "# 2- HTTP Error 400: Bad Request\n",
    "\n",
    "from pytube.innertube import _default_clients\n",
    "from pytube import cipher\n",
    "import re\n",
    "\n",
    "_default_clients[\"ANDROID\"][\"context\"][\"client\"][\"clientVersion\"] = \"19.08.35\"\n",
    "_default_clients[\"IOS\"][\"context\"][\"client\"][\"clientVersion\"] = \"19.08.35\"\n",
    "_default_clients[\"ANDROID_EMBED\"][\"context\"][\"client\"][\"clientVersion\"] = \"19.08.35\"\n",
    "_default_clients[\"IOS_EMBED\"][\"context\"][\"client\"][\"clientVersion\"] = \"19.08.35\"\n",
    "_default_clients[\"IOS_MUSIC\"][\"context\"][\"client\"][\"clientVersion\"] = \"6.41\"\n",
    "_default_clients[\"ANDROID_MUSIC\"] = _default_clients[\"ANDROID_CREATOR\"]\n",
    "\n",
    "\n",
    "\n",
    "def get_throttling_function_name(js: str) -> str:\n",
    "    \"\"\"Extract the name of the function that computes the throttling parameter.\n",
    "\n",
    "    :param str js:\n",
    "        The contents of the base.js asset file.\n",
    "    :rtype: str\n",
    "    :returns:\n",
    "        The name of the function used to compute the throttling parameter.\n",
    "    \"\"\"\n",
    "    function_patterns = [\n",
    "        r'a\\.[a-zA-Z]\\s*&&\\s*\\([a-z]\\s*=\\s*a\\.get\\(\"n\"\\)\\)\\s*&&\\s*'\n",
    "        r'\\([a-z]\\s*=\\s*([a-zA-Z0-9$]+)(\\[\\d+\\])?\\([a-z]\\)',\n",
    "        r'\\([a-z]\\s*=\\s*([a-zA-Z0-9$]+)(\\[\\d+\\])\\([a-z]\\)',\n",
    "    ]\n",
    "    #logger.debug('Finding throttling function name')\n",
    "    for pattern in function_patterns:\n",
    "        regex = re.compile(pattern)\n",
    "        function_match = regex.search(js)\n",
    "        if function_match:\n",
    "            #logger.debug(\"finished regex search, matched: %s\", pattern)\n",
    "            if len(function_match.groups()) == 1:\n",
    "                return function_match.group(1)\n",
    "            idx = function_match.group(2)\n",
    "            if idx:\n",
    "                idx = idx.strip(\"[]\")\n",
    "                array = re.search(\n",
    "                    r'var {nfunc}\\s*=\\s*(\\[.+?\\]);'.format(\n",
    "                        nfunc=re.escape(function_match.group(1))),\n",
    "                    js\n",
    "                )\n",
    "                if array:\n",
    "                    array = array.group(1).strip(\"[]\").split(\",\")\n",
    "                    array = [x.strip() for x in array]\n",
    "                    return array[int(idx)]\n",
    "\n",
    "    raise RegexMatchError(\n",
    "        caller=\"get_throttling_function_name\", pattern=\"multiple\"\n",
    "    )\n",
    "\n",
    "cipher.get_throttling_function_name = get_throttling_function_name"
   ]
  }
 ],
 "metadata": {
  "kernelspec": {
   "display_name": "py312",
   "language": "python",
   "name": "python3"
  },
  "language_info": {
   "codemirror_mode": {
    "name": "ipython",
    "version": 3
   },
   "file_extension": ".py",
   "mimetype": "text/x-python",
   "name": "python",
   "nbconvert_exporter": "python",
   "pygments_lexer": "ipython3",
   "version": "3.10.14"
  }
 },
 "nbformat": 4,
 "nbformat_minor": 2
}
